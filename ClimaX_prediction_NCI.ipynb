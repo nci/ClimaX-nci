{
 "cells": [
  {
   "cell_type": "markdown",
   "id": "4ffbc197-bbbd-436c-a094-dd52b74a62f2",
   "metadata": {},
   "source": [
    "# ClimaX Prediction Notebook"
   ]
  },
  {
   "cell_type": "markdown",
   "id": "c35b58e5-a3b8-48d5-9831-b6771f6e9d2e",
   "metadata": {},
   "source": [
    "This notebook demonstrates how to run precdiction via ClimaX model at NCI computing facility."
   ]
  },
  {
   "cell_type": "code",
   "execution_count": null,
   "id": "f20f1a42-1ef7-45bd-a335-9e0bb77945e6",
   "metadata": {
    "tags": []
   },
   "outputs": [],
   "source": [
    "import os\n",
    "from typing import Optional\n",
    "from typing import Any\n",
    "import numpy as np\n",
    "import math\n",
    "import random\n",
    "import numpy as np\n",
    "import click\n",
    "import xarray as xr\n",
    "from tqdm import tqdm\n",
    "import glob\n",
    "import warnings\n",
    "from typing import List\n",
    "\n",
    "import torch\n",
    "import torchdata.datapipes as dp\n",
    "from pytorch_lightning import LightningDataModule\n",
    "from pytorch_lightning import LightningModule\n",
    "from torch.utils.data import DataLoader, IterableDataset\n",
    "from torchvision.transforms import transforms\n",
    "from pytorch_lightning.cli import LightningCLI\n",
    "\n",
    "from climax.arch import ClimaX\n",
    "from climax.pretrain.datamodule import collate_fn\n",
    "from climax.pretrain.datamodule import MultiSourceDataModule\n",
    "from climax.pretrain.module import PretrainModule\n",
    "\n",
    "from climax.pretrain.dataset import (\n",
    "\tForecast,\n",
    "\tIndividualForecastDataIter,\n",
    "\tNpyReader,\n",
    "\tShuffleIterableDataset,\n",
    ")\n",
    "from climax.utils.lr_scheduler import LinearWarmupCosineAnnealingLR\n",
    "from climax.utils.metrics import (\n",
    "\tlat_weighted_acc,\n",
    "\tlat_weighted_mse,\n",
    "\tlat_weighted_mse_val,\n",
    "\tlat_weighted_rmse,\n",
    ")\n",
    "from climax.utils.pos_embed import interpolate_pos_embed\n",
    "from climax.global_forecast.datamodule import GlobalForecastDataModule\n",
    "from climax.global_forecast.module import GlobalForecastModule\n",
    "\n",
    "from torch.optim import Optimizer\n",
    "from torch.optim.lr_scheduler import _LRScheduler\n",
    "\n",
    "from functools import lru_cache\n",
    "\n",
    "import torch.nn as nn\n",
    "from timm.models.vision_transformer import Block, PatchEmbed, trunc_normal_\n",
    "\n",
    "from climax.utils.pos_embed import (\n",
    "\tget_1d_sincos_pos_embed_from_grid,\n",
    "\tget_2d_sincos_pos_embed,\n",
    ")\n",
    "from climax.utils.data_utils import DEFAULT_PRESSURE_LEVELS, NAME_TO_VAR\n",
    "import holoviews as hv\n",
    "import matplotlib\n",
    "from matplotlib import pyplot as plt\n",
    "from IPython.display import Image\n",
    "from IPython.core.display import HTML "
   ]
  },
  {
   "cell_type": "code",
   "execution_count": null,
   "id": "ddc02186-81bb-47aa-b9b5-a2dd0a0bce18",
   "metadata": {
    "tags": []
   },
   "outputs": [],
   "source": [
    "def RMSELoss(yhat,y):\n",
    "    return torch.sqrt(torch.mean((yhat-y)**2))"
   ]
  },
  {
   "cell_type": "code",
   "execution_count": null,
   "id": "9fafdf7b-62a7-4c5a-afc6-4a07cf492121",
   "metadata": {
    "tags": []
   },
   "outputs": [],
   "source": [
    "import os\n",
    "os.chdir(\"YOUR_OWN_WORKDIR\")"
   ]
  },
  {
   "cell_type": "markdown",
   "id": "21de5188-2a91-4c39-b9ed-a508bd17d8b2",
   "metadata": {},
   "source": [
    "# Climax model\n",
    "Paper link: https://arxiv.org/pdf/2301.10343.pdf"
   ]
  },
  {
   "cell_type": "code",
   "execution_count": null,
   "id": "3f7149a4-62f0-493b-83f8-b2478a40f95e",
   "metadata": {
    "tags": []
   },
   "outputs": [],
   "source": [
    "Image(filename = \"/g/data/dk92/apps/climax/Clim-1.png\", width=700, height=750)"
   ]
  },
  {
   "cell_type": "markdown",
   "id": "c32b0fb1-b7f3-4151-8d5b-c130571f711e",
   "metadata": {},
   "source": [
    "# WeatherBench data\n",
    "Paper link: https://arxiv.org/pdf/2002.00469.pdf"
   ]
  },
  {
   "cell_type": "code",
   "execution_count": null,
   "id": "4fafa09d-a497-4805-8a77-9e9ca6e5f12a",
   "metadata": {
    "tags": []
   },
   "outputs": [],
   "source": [
    "Image(filename = \"/g/data/dk92/apps/climax/weather-1.png\", width=700, height=750)"
   ]
  },
  {
   "cell_type": "markdown",
   "id": "62a19ad1-dc55-490a-b48d-f4d9b0be46ec",
   "metadata": {},
   "source": [
    "# Data location.\n",
    "WeatherBench data are re-processed for ClimaX training, testing and prediction. They are put under the location `/g/data/dk92/apps/climax/weatherbench/5.625deg_npz` "
   ]
  },
  {
   "cell_type": "code",
   "execution_count": null,
   "id": "5e424946-22e0-4337-a04f-75f718f03a4b",
   "metadata": {
    "tags": []
   },
   "outputs": [],
   "source": [
    "! ls -lh  /g/data/dk92/apps/climax/weatherbench/5.625deg_npz"
   ]
  },
  {
   "cell_type": "markdown",
   "id": "d5e01d0d-1445-4566-9f74-6ea0fbb1d4ae",
   "metadata": {},
   "source": [
    "# PBS Script - Model fine-tune"
   ]
  },
  {
   "cell_type": "markdown",
   "id": "5bc5e73f-906d-4129-a3de-070eb38a1595",
   "metadata": {},
   "source": [
    "The fine-tuning code may take very long time. You can find example PBS job scripts to run the fine-tuning training in /g/data/dk92/apps/climax/0.2.3/examples. For more details, please visit https://opus.nci.org.au/x/vgJDDQ"
   ]
  },
  {
   "cell_type": "markdown",
   "id": "ad5cd7c0-371e-4d14-a44f-70784c6cd672",
   "metadata": {},
   "source": [
    "# Prediction"
   ]
  },
  {
   "cell_type": "markdown",
   "id": "6f8a5566-f166-4624-b789-cc744baa5307",
   "metadata": {},
   "source": [
    "The Climax code does not have a prediction module. We have added a prediction code to the NCI ClimaX environment. This code is different from the code available in the original repository and includes a prediction script, configuration file, and data loading module. "
   ]
  },
  {
   "cell_type": "code",
   "execution_count": null,
   "id": "5829b7ec-9242-4f00-91c5-e00f670ae1ec",
   "metadata": {
    "tags": []
   },
   "outputs": [],
   "source": [
    "import os\n",
    "os.environ['OUTPUT_DIR']='climax_train_global_output'\n",
    "!python ${CLIMAX_ROOT}/src/climax/global_forecast/predict.py \\\n",
    "    --config \"${CLIMAX_ROOT}/configs/prediction.yaml\" \\\n",
    "    --trainer.num_nodes=1 \\\n",
    "    --trainer.strategy=ddp --trainer.devices=1 \\\n",
    "    --data.root_dir='/g/data/dk92/apps/climax/weatherbench/5.625deg_npz' \\\n",
    "    --data.predict_range=72 \\\n",
    "    --data.out_variables=['geopotential_500','temperature_850','2m_temperature'] \\\n",
    "    --data.batch_size=16 \\\n",
    "    --data.num_workers=1 \\\n",
    "    --model.pretrained_path='/g/data/dk92/apps/climax/weatherbench/ClimaX-5.625deg.ckpt' "
   ]
  },
  {
   "cell_type": "markdown",
   "id": "3e6d2f0b-69ac-40e2-a165-7d218e9b3aef",
   "metadata": {
    "tags": []
   },
   "source": [
    "The above prediction script will produce a file named \"pred.pt\" under the directory specified under \"OUTPUT_DIR\" environment."
   ]
  },
  {
   "cell_type": "code",
   "execution_count": null,
   "id": "1a8f1e85-c0de-4be2-b748-dd3a54ae8bac",
   "metadata": {
    "tags": []
   },
   "outputs": [],
   "source": [
    "import os\n",
    "import torch\n",
    "\n",
    "with open(os.environ['OUTPUT_DIR']+'/pred.pt','rb') as f:\n",
    "    pred = torch.load(f) \n",
    "\n",
    "geopotential_500_y = pred[0][1][:,0]\n",
    "temperature_850_y  = pred[0][1][:,1]\n",
    "temperature_y      = pred[0][1][:,2]\n",
    "\n",
    "geopotential_500_pred = pred[0][2][:,0]\n",
    "temperature_850_pred  = pred[0][2][:,1]\n",
    "temperature_pred      = pred[0][2][:,2]\n",
    "#print (geopotential_500_y.shape)\n",
    "for i in range (1,16):\n",
    "    geopotential_500_y = torch.cat((geopotential_500_y, pred[i][1][:,0]), 0)\n",
    "    temperature_850_y  = torch.cat((temperature_850_y,  pred[i][1][:,1]), 0)\n",
    "    temperature_y      = torch.cat((temperature_y,      pred[i][1][:,2]), 0)\n",
    "    \n",
    "    geopotential_500_pred = torch.cat((geopotential_500_pred, pred[i][2][:,0]), 0)\n",
    "    temperature_850_pred  = torch.cat((temperature_850_pred,  pred[i][2][:,1]), 0)\n",
    "    temperature_pred      = torch.cat((temperature_pred,      pred[i][2][:,2]), 0)\n",
    "print (geopotential_500_y.shape, temperature_850_y.shape, temperature_y.shape)\n",
    "print (geopotential_500_pred.shape, temperature_850_pred.shape, temperature_pred.shape)"
   ]
  },
  {
   "cell_type": "code",
   "execution_count": null,
   "id": "f9db8e76-f886-4f11-a468-cf5d99bdad51",
   "metadata": {
    "tags": []
   },
   "outputs": [],
   "source": [
    "%%time \n",
    "%matplotlib inline \n",
    "import matplotlib.colors as colors\n",
    "import matplotlib.image as mpimg\n",
    "from matplotlib import rcParams\n",
    "import matplotlib.animation as animation\n",
    "from IPython.display import HTML\n",
    "import matplotlib.pyplot as plt\n",
    "import numpy as np\n",
    "\n",
    "plt.rcParams['animation.embed_limit'] = 2**128    \n",
    "plt.rcParams[\"figure.figsize\"] = [15,12]\n",
    "#plt.rcParams[\"figure.autolayout\"] = True \n",
    "plt.subplots_adjust(bottom=0, right=1, top=1, left=0)\n",
    "print (geopotential_500_y.shape)\n",
    "\n",
    "fig = plt.figure()\n",
    "#fig.set_figheight(10)\n",
    "#fig.set_figwidth(10)\n",
    "ax1 = fig.add_subplot(321)\n",
    "ax4 = fig.add_subplot(322)\n",
    "ax2 = fig.add_subplot(323)\n",
    "ax5 = fig.add_subplot(324)\n",
    "ax3 = fig.add_subplot(325)\n",
    "ax6 = fig.add_subplot(326)\n",
    "\n",
    "ax1.title.set_text('geopotential_500')\n",
    "ax2.title.set_text('temperature_850')\n",
    "ax3.title.set_text('2m_temperature')\n",
    "ax4.title.set_text(\"Prediction, RMSE: \" + str(round ( RMSELoss(geopotential_500_pred[0],geopotential_500_y [0]).item(),3) ) )\n",
    "ax5.title.set_text(\"Prediction, RMSE: \" + str(round ( RMSELoss(temperature_850_pred[0], temperature_850_y[0]).item(),3) ) )\n",
    "ax6.title.set_text(\"Prediction, RMSE: \" + str(round ( RMSELoss(temperature_pred[0],     temperature_y [0]).item(),3) ) )\n",
    "\n",
    "color_map ='Spectral_r'\n",
    "inter = 'nearest'\n",
    "#mi = np.min (geopotential_500_y  )\n",
    "#mx = np.max (geopotential_500_y  )\n",
    "imart1 = ax1.imshow(geopotential_500_y [0])\n",
    "imart2 = ax2.imshow(temperature_850_y  [0])\n",
    "imart3 = ax3.imshow(temperature_y      [0])\n",
    "imart4 = ax4.imshow(geopotential_500_pred [0])\n",
    "imart5 = ax5.imshow(temperature_850_pred  [0])\n",
    "imart6 = ax6.imshow(temperature_pred      [0])\n",
    "imart  = [imart1, imart2, imart3, imart4, imart5, imart6 ] \n",
    "\n",
    "def init():\n",
    "    return imart \n",
    "\n",
    "def update(val):\n",
    "    imart[0].set_data(geopotential_500_y [val])\n",
    "    imart[1].set_data(temperature_850_y [val])\n",
    "    imart[2].set_data(temperature_y [val])\n",
    "    imart[3].set_data(geopotential_500_pred [val])\n",
    "    imart[4].set_data(temperature_850_pred [val])\n",
    "    imart[5].set_data(temperature_pred [val])\n",
    "    ax4.title.set_text(\"Prediction, RMSE: \" + str(round ( RMSELoss(geopotential_500_pred[val],geopotential_500_y [val]).item(),3) ) )\n",
    "    ax5.title.set_text(\"Prediction, RMSE: \" + str(round ( RMSELoss(temperature_850_pred[val], temperature_850_y[val]).item(),3) ) )\n",
    "    ax6.title.set_text(\"Prediction, RMSE: \" + str(round ( RMSELoss(temperature_pred[val],     temperature_y [val]).item(),3) ) )\n",
    "\n",
    "    return imart\n",
    "ani = animation.FuncAnimation(fig, update, frames=len(geopotential_500_y), \n",
    "                              init_func=init,\n",
    "                              interval=3, blit=True)\n",
    "plt.close()\n"
   ]
  },
  {
   "cell_type": "code",
   "execution_count": null,
   "id": "2a8e6a0f-99fb-4ccf-9612-137d0589b970",
   "metadata": {
    "tags": []
   },
   "outputs": [],
   "source": [
    "%%time \n",
    "# Note that it will take some time to generate the animation.\n",
    "from matplotlib import rc\n",
    "rc('animation', html='jshtml')\n",
    "ani"
   ]
  }
 ],
 "metadata": {
  "kernelspec": {
   "display_name": "Python 3 (ipykernel)",
   "language": "python",
   "name": "python3"
  },
  "language_info": {
   "codemirror_mode": {
    "name": "ipython",
    "version": 3
   },
   "file_extension": ".py",
   "mimetype": "text/x-python",
   "name": "python",
   "nbconvert_exporter": "python",
   "pygments_lexer": "ipython3",
   "version": "3.8.16"
  }
 },
 "nbformat": 4,
 "nbformat_minor": 5
}
